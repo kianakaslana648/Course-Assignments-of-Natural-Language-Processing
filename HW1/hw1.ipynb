{
 "cells": [
  {
   "cell_type": "markdown",
   "id": "1847092a",
   "metadata": {},
   "source": [
    "1.(10 pts) Establish the convexity of the following functions, showing any necessary derivation steps.\n",
    "\n",
    "a. $f(x) = x^{2}$\n",
    "\n",
    "b. $f(x) = \\ln(x)$\n",
    "\n",
    "c. $f(x) = \\frac{1}{1 + e^{-x}}$\n",
    "\n",
    "Hint: convexity is non binary, some functions are neither convex nor concave, some are convex/concave over finite intervals etc..\n",
    "\n"
   ]
  },
  {
   "cell_type": "markdown",
   "id": "10292658",
   "metadata": {},
   "source": [
    "a. Convex  \n",
    "Since its second derivative is 1 and thus positive, it's a convex function.  \n",
    "b. Concave\n",
    "Since its second derivative is $-\\frac{1}{x^2}$ and thus negative, it's a concave function.  \n",
    "c. Convex on $(-\\infty,0]$, concave on $[0,\\infty)$.  \n",
    "Its first derivative is $\\frac{e^{-x}}{(1+e^{-x})^2}$.  \n",
    "Then its second derivative is $\\frac{e^{-3x}-e^{-x}}{(1+e^{-x})^2}$,\n",
    "thus it's positive on $(-\\infty,0]$ and negative on $[0,\\infty)$.  \n",
    "So it's convex on $(-\\infty,0]$ and concave on $[0,\\infty)$."
   ]
  },
  {
   "cell_type": "markdown",
   "id": "2d504b1f",
   "metadata": {},
   "source": [
    "2.(10 pts) Consider a continuous random variable $X$ that is drawn from a uniform distribution between the values $0$ and $\\theta$. Please compute the following, showing each derivation step:\n",
    "\n",
    "a. $\\mathbb{E}_{X}[X]$\n",
    "\n",
    "b. $\\text{var}(X)$\n",
    "\n",
    "c. $H(X)$\n",
    "\n",
    "Note: $H(X)$ denotes the entropy of $X$."
   ]
  },
  {
   "cell_type": "markdown",
   "id": "90d5f366",
   "metadata": {},
   "source": [
    "a.  \n",
    "$$E_X[X]=\\int_0^\\theta\\frac{1}{\\theta}xdx$$\n",
    "$$=\\frac{1}{\\theta}\\frac{\\theta^2}{2}$$\n",
    "$$=\\frac{\\theta}{2}$$\n",
    "b.\n",
    "$$var(X)=\\int_0^\\theta\\frac{1}{\\theta}(x-\\frac{\\theta}{2})^2dx$$\n",
    "$$=\\frac{1}{\\theta}\\int_0^\\theta(x^2-\\theta x+\\frac{\\theta^2}{4})dx$$\n",
    "$$=\\frac{1}{\\theta}(\\frac{\\theta^3}{3}-\\theta\\frac{\\theta^2}{2}+\\frac{\\theta^3}{4})$$\n",
    "$$=\\frac{\\theta^2}{12}$$\n",
    "c.\n",
    "$$H(X)=-\\int_0^\\theta\\frac{1}{\\theta}log(\\frac{1}{\\theta})dx$$\n",
    "$$=log(\\theta)$$"
   ]
  },
  {
   "cell_type": "markdown",
   "id": "82f50f79",
   "metadata": {},
   "source": [
    "3.(40 pts) Given $M$ independently drawn samples of $X$ from (2), $x_{1}, ..., x_{M}$, compute the maximum likelihood estimate of $\\theta$, $\\hat{\\theta}$. Please show the steps to arrive at this answer.\n"
   ]
  },
  {
   "cell_type": "markdown",
   "id": "9e3e2b93",
   "metadata": {},
   "source": [
    "$$l(\\theta, x_1, \\cdots, x_M)=\\frac{1}{\\theta^M}\\prod_{i=1}^{M}I(0\\leq x_i\\leq\\theta)$$\n",
    "$$=\\begin{cases}\n",
    "\\frac{1}{\\theta^M} & \\text{when} & \\theta \\geq \\max_{0\\leq i\\leq M}x_i\\\\\n",
    "0 & \\text{when}& \\theta < \\max_{0\\leq i\\leq M}x_i\n",
    "\\end{cases}$$\n",
    "$$\\text{Thus}\\ \\hat{\\theta}=\\max_\\theta l(\\theta, x_1, \\cdots, x_M)=\\max_{0\\leq i\\leq M}x_i$$"
   ]
  },
  {
   "cell_type": "markdown",
   "id": "acd6e86e",
   "metadata": {},
   "source": [
    "4.(20 pts) Imagine you are given the choice of three sound proof doors: Behind one door is $1M$ cash; behind the others, crickets. After making your choice (but not observing the outcome), an omniscient host reveals crickets behind one of the other doors. The host then asks you the following: Would you like to switch doors? Using Bayes' Rule, determine whether or not you should switch doors to maximize your chances of winning $1M$."
   ]
  },
  {
   "cell_type": "markdown",
   "id": "68c9f187",
   "metadata": {},
   "source": [
    "### Case of switching doors:\n",
    "We use event $A$ to represent winning 1M, event $B$ to represent that the participater has selected the right door at the beginning.\n",
    "$$P(A)=P(B)P(A|B)+P(not\\ B)P(A|not\\ B)$$\n",
    "$$=\\frac{1}{3}\\times0+\\frac{2}{3}\\times 1$$\n",
    "$$=\\frac{2}{3}$$\n",
    "### Case of not switching doors:\n",
    "$$P(A)=P(B)P(A|B)+P(not\\ B)P(A|not\\ B)$$\n",
    "$$=\\frac{1}{3}\\times 1+\\frac{2}{3}\\times 0$$\n",
    "$$=\\frac{1}{3}$$\n",
    "\n",
    "Thus we see that the strategy of switching doors are better in terms of the probabilities."
   ]
  },
  {
   "cell_type": "markdown",
   "id": "211d1c95",
   "metadata": {},
   "source": [
    "5.(20 pts) Consider the covariance matrix, $\\Sigma \\in \\mathbb{R}^{N \\times N}$ of a random vector $X \\in \\mathbb{R}^{N}$. Show that $\\Sigma$ is a positive semidefnite matrix. What are some of the implications of $\\Sigma$ being PSD?\n",
    "\n",
    "Note: The covariance of $X$ is defined as $\\Sigma = \\mathbb{E}_{X}\\big[ \\big( X - \\mathbb{E}[X] \\big)\\big( X - \\mathbb{E}[X] \\big)^{T} \\big]$"
   ]
  },
  {
   "cell_type": "markdown",
   "id": "31fa1a2e",
   "metadata": {},
   "source": [
    "For any $y\\in R^N$, we have:\n",
    "$$y^T\\Sigma y = y^TE_{X}\\big[ \\big( X - E[X] \\big)\\big( X - E[X] \\big)^{T} \\big]y$$\n",
    "$$=E_X[y^TXX^Ty-2y^TXE[X]^Ty+y^TE[X]E[X]^Ty]$$\n",
    "$$=E_X[(y^TX(y^TX)^T)-2y^TX(y^TE[X])^T+y^TE[X](y^TE[X])^T]$$\n",
    "$$=E_X[(y^TX-y^TE[X])^2]$$\n",
    "$$\\geq 0$$\n",
    "$$\\text{Thus}\\ \\Sigma\\ \\text{is PSD.}$$"
   ]
  }
 ],
 "metadata": {
  "kernelspec": {
   "display_name": "Python [conda env:learn] *",
   "language": "python",
   "name": "conda-env-learn-py"
  },
  "language_info": {
   "codemirror_mode": {
    "name": "ipython",
    "version": 3
   },
   "file_extension": ".py",
   "mimetype": "text/x-python",
   "name": "python",
   "nbconvert_exporter": "python",
   "pygments_lexer": "ipython3",
   "version": "3.7.13"
  }
 },
 "nbformat": 4,
 "nbformat_minor": 5
}
